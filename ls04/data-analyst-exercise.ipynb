{
 "cells": [
  {
   "cell_type": "markdown",
   "metadata": {
    "tags": []
   },
   "source": [
    "# Data analyst exercise\n",
    "\n",
    "Data taken from: https://github.com/quankiquanki/skytrax-reviews-dataset/tree/master/data\n",
    "\n",
    "The datasets:\n",
    "- https://raw.githubusercontent.com/quankiquanki/skytrax-reviews-dataset/master/data/airline.csv\n",
    "- https://raw.githubusercontent.com/quankiquanki/skytrax-reviews-dataset/master/data/airport.csv\n",
    "- https://raw.githubusercontent.com/quankiquanki/skytrax-reviews-dataset/master/data/lounge.csv\n",
    "- https://raw.githubusercontent.com/quankiquanki/skytrax-reviews-dataset/master/data/seat.csv"
   ]
  },
  {
   "cell_type": "markdown",
   "metadata": {},
   "source": [
    "## Goals\n",
    "\n",
    "**Section 1**\n",
    "1. Data loading\n",
    "2. Explore data (`shape`, `dtypes`, `head()`)\n",
    "\n",
    "**Section 2**\n",
    "Working with the *airline* data\n",
    "1. Sort: by `overall_rating` column field. print `head()` after sorting.\n",
    "\n",
    "2. Filter: exclude NaN from `type_traveller`. print `head()` after filtering.\n",
    "\n",
    "**Section 3**\n",
    "1. Create a new `.csv` file that contains `author_country` and `continent` columns. concat `airline` dataset with the new file dataset.\n",
    "\n",
    "**Section 4**\n",
    "1. Use `Describe()` to get statistics about the data\n",
    "2. Use `agg()` to get the average of \n",
    "    - `overall_rating`\n",
    "    - `seat_comfort_rating`\n",
    "    - `cabin_staff_rating`\n",
    "    - `food_beverages_rating`\n",
    "    - `inflight_entertainment_rating`\n",
    "    - `ground_service_rating`\n",
    "    - `wifi_connectivity_rating`\n",
    "    - `value_money_rating`               "
   ]
  },
  {
   "cell_type": "markdown",
   "metadata": {},
   "source": [
    "## Section 1\n",
    "- Data loading\n",
    "- Explore data (`shape`, `dtypes`, `head()`)"
   ]
  },
  {
   "cell_type": "code",
   "execution_count": 5,
   "metadata": {
    "tags": [
     "load-data"
    ]
   },
   "outputs": [],
   "source": [
    "import pandas as pd\n",
    "\n",
    "df_airline = pd.read_csv(\"https://raw.githubusercontent.com/quankiquanki/skytrax-reviews-dataset/master/data/airline.csv\")\n",
    "df_airport = pd.read_csv(\"https://raw.githubusercontent.com/quankiquanki/skytrax-reviews-dataset/master/data/airport.csv\")\n",
    "df_lounge = pd.read_csv(\"https://raw.githubusercontent.com/quankiquanki/skytrax-reviews-dataset/master/data/lounge.csv\")\n",
    "df_seat = pd.read_csv(\"https://raw.githubusercontent.com/quankiquanki/skytrax-reviews-dataset/master/data/seat.csv\")\n"
   ]
  },
  {
   "cell_type": "code",
   "execution_count": 6,
   "metadata": {
    "tags": [
     "explore-data"
    ]
   },
   "outputs": [
    {
     "name": "stdout",
     "output_type": "stream",
     "text": [
      "df_airline (41396, 20)\n",
      "df_airport (17721, 20)\n",
      "df_lounge (2264, 21)\n",
      "df_seat (1258, 21)\n"
     ]
    }
   ],
   "source": [
    "print(\"df_airline\", df_airline.shape)\n",
    "print(\"df_airport\", df_airport.shape)\n",
    "print(\"df_lounge\", df_lounge.shape)\n",
    "print(\"df_seat\", df_seat.shape)"
   ]
  },
  {
   "cell_type": "code",
   "execution_count": 13,
   "metadata": {
    "tags": [
     "explore-data"
    ]
   },
   "outputs": [
    {
     "name": "stdout",
     "output_type": "stream",
     "text": [
      "df_airline airline_name                      object\n",
      "link                              object\n",
      "title                             object\n",
      "author                            object\n",
      "author_country                    object\n",
      "date                              object\n",
      "content                           object\n",
      "aircraft                          object\n",
      "type_traveller                    object\n",
      "cabin_flown                       object\n",
      "route                             object\n",
      "overall_rating                   float64\n",
      "seat_comfort_rating              float64\n",
      "cabin_staff_rating               float64\n",
      "food_beverages_rating            float64\n",
      "inflight_entertainment_rating    float64\n",
      "ground_service_rating            float64\n",
      "wifi_connectivity_rating         float64\n",
      "value_money_rating               float64\n",
      "recommended                        int64\n",
      "dtype: object\n"
     ]
    }
   ],
   "source": [
    "print(\"df_airline\", df_airline.dtypes)"
   ]
  },
  {
   "cell_type": "code",
   "execution_count": 9,
   "metadata": {
    "tags": [
     "explore-data"
    ]
   },
   "outputs": [
    {
     "data": {
      "text/html": [
       "<div>\n",
       "<style scoped>\n",
       "    .dataframe tbody tr th:only-of-type {\n",
       "        vertical-align: middle;\n",
       "    }\n",
       "\n",
       "    .dataframe tbody tr th {\n",
       "        vertical-align: top;\n",
       "    }\n",
       "\n",
       "    .dataframe thead th {\n",
       "        text-align: right;\n",
       "    }\n",
       "</style>\n",
       "<table border=\"1\" class=\"dataframe\">\n",
       "  <thead>\n",
       "    <tr style=\"text-align: right;\">\n",
       "      <th></th>\n",
       "      <th>airline_name</th>\n",
       "      <th>link</th>\n",
       "      <th>title</th>\n",
       "      <th>author</th>\n",
       "      <th>author_country</th>\n",
       "      <th>date</th>\n",
       "      <th>content</th>\n",
       "      <th>aircraft</th>\n",
       "      <th>type_traveller</th>\n",
       "      <th>cabin_flown</th>\n",
       "      <th>route</th>\n",
       "      <th>overall_rating</th>\n",
       "      <th>seat_comfort_rating</th>\n",
       "      <th>cabin_staff_rating</th>\n",
       "      <th>food_beverages_rating</th>\n",
       "      <th>inflight_entertainment_rating</th>\n",
       "      <th>ground_service_rating</th>\n",
       "      <th>wifi_connectivity_rating</th>\n",
       "      <th>value_money_rating</th>\n",
       "      <th>recommended</th>\n",
       "    </tr>\n",
       "  </thead>\n",
       "  <tbody>\n",
       "    <tr>\n",
       "      <th>0</th>\n",
       "      <td>adria-airways</td>\n",
       "      <td>/airline-reviews/adria-airways</td>\n",
       "      <td>Adria Airways customer review</td>\n",
       "      <td>D Ito</td>\n",
       "      <td>Germany</td>\n",
       "      <td>2015-04-10</td>\n",
       "      <td>Outbound flight FRA/PRN A319. 2 hours 10 min f...</td>\n",
       "      <td>NaN</td>\n",
       "      <td>NaN</td>\n",
       "      <td>Economy</td>\n",
       "      <td>NaN</td>\n",
       "      <td>7.0</td>\n",
       "      <td>4.0</td>\n",
       "      <td>4.0</td>\n",
       "      <td>4.0</td>\n",
       "      <td>0.0</td>\n",
       "      <td>NaN</td>\n",
       "      <td>NaN</td>\n",
       "      <td>4.0</td>\n",
       "      <td>1</td>\n",
       "    </tr>\n",
       "    <tr>\n",
       "      <th>1</th>\n",
       "      <td>adria-airways</td>\n",
       "      <td>/airline-reviews/adria-airways</td>\n",
       "      <td>Adria Airways customer review</td>\n",
       "      <td>Ron Kuhlmann</td>\n",
       "      <td>United States</td>\n",
       "      <td>2015-01-05</td>\n",
       "      <td>Two short hops ZRH-LJU and LJU-VIE. Very fast ...</td>\n",
       "      <td>NaN</td>\n",
       "      <td>NaN</td>\n",
       "      <td>Business Class</td>\n",
       "      <td>NaN</td>\n",
       "      <td>10.0</td>\n",
       "      <td>4.0</td>\n",
       "      <td>5.0</td>\n",
       "      <td>4.0</td>\n",
       "      <td>1.0</td>\n",
       "      <td>NaN</td>\n",
       "      <td>NaN</td>\n",
       "      <td>5.0</td>\n",
       "      <td>1</td>\n",
       "    </tr>\n",
       "    <tr>\n",
       "      <th>2</th>\n",
       "      <td>adria-airways</td>\n",
       "      <td>/airline-reviews/adria-airways</td>\n",
       "      <td>Adria Airways customer review</td>\n",
       "      <td>E Albin</td>\n",
       "      <td>Switzerland</td>\n",
       "      <td>2014-09-14</td>\n",
       "      <td>Flew Zurich-Ljubljana on JP365 newish CRJ900. ...</td>\n",
       "      <td>NaN</td>\n",
       "      <td>NaN</td>\n",
       "      <td>Economy</td>\n",
       "      <td>NaN</td>\n",
       "      <td>9.0</td>\n",
       "      <td>5.0</td>\n",
       "      <td>5.0</td>\n",
       "      <td>4.0</td>\n",
       "      <td>0.0</td>\n",
       "      <td>NaN</td>\n",
       "      <td>NaN</td>\n",
       "      <td>5.0</td>\n",
       "      <td>1</td>\n",
       "    </tr>\n",
       "    <tr>\n",
       "      <th>3</th>\n",
       "      <td>adria-airways</td>\n",
       "      <td>/airline-reviews/adria-airways</td>\n",
       "      <td>Adria Airways customer review</td>\n",
       "      <td>Tercon Bojan</td>\n",
       "      <td>Singapore</td>\n",
       "      <td>2014-09-06</td>\n",
       "      <td>Adria serves this 100 min flight from Ljubljan...</td>\n",
       "      <td>NaN</td>\n",
       "      <td>NaN</td>\n",
       "      <td>Business Class</td>\n",
       "      <td>NaN</td>\n",
       "      <td>8.0</td>\n",
       "      <td>4.0</td>\n",
       "      <td>4.0</td>\n",
       "      <td>3.0</td>\n",
       "      <td>1.0</td>\n",
       "      <td>NaN</td>\n",
       "      <td>NaN</td>\n",
       "      <td>4.0</td>\n",
       "      <td>1</td>\n",
       "    </tr>\n",
       "    <tr>\n",
       "      <th>4</th>\n",
       "      <td>adria-airways</td>\n",
       "      <td>/airline-reviews/adria-airways</td>\n",
       "      <td>Adria Airways customer review</td>\n",
       "      <td>L James</td>\n",
       "      <td>Poland</td>\n",
       "      <td>2014-06-16</td>\n",
       "      <td>WAW-SKJ Economy. No free snacks or drinks on t...</td>\n",
       "      <td>NaN</td>\n",
       "      <td>NaN</td>\n",
       "      <td>Economy</td>\n",
       "      <td>NaN</td>\n",
       "      <td>4.0</td>\n",
       "      <td>4.0</td>\n",
       "      <td>2.0</td>\n",
       "      <td>1.0</td>\n",
       "      <td>2.0</td>\n",
       "      <td>NaN</td>\n",
       "      <td>NaN</td>\n",
       "      <td>2.0</td>\n",
       "      <td>0</td>\n",
       "    </tr>\n",
       "  </tbody>\n",
       "</table>\n",
       "</div>"
      ],
      "text/plain": [
       "    airline_name                            link  \\\n",
       "0  adria-airways  /airline-reviews/adria-airways   \n",
       "1  adria-airways  /airline-reviews/adria-airways   \n",
       "2  adria-airways  /airline-reviews/adria-airways   \n",
       "3  adria-airways  /airline-reviews/adria-airways   \n",
       "4  adria-airways  /airline-reviews/adria-airways   \n",
       "\n",
       "                           title        author author_country        date  \\\n",
       "0  Adria Airways customer review         D Ito        Germany  2015-04-10   \n",
       "1  Adria Airways customer review  Ron Kuhlmann  United States  2015-01-05   \n",
       "2  Adria Airways customer review       E Albin    Switzerland  2014-09-14   \n",
       "3  Adria Airways customer review  Tercon Bojan      Singapore  2014-09-06   \n",
       "4  Adria Airways customer review       L James         Poland  2014-06-16   \n",
       "\n",
       "                                             content aircraft type_traveller  \\\n",
       "0  Outbound flight FRA/PRN A319. 2 hours 10 min f...      NaN            NaN   \n",
       "1  Two short hops ZRH-LJU and LJU-VIE. Very fast ...      NaN            NaN   \n",
       "2  Flew Zurich-Ljubljana on JP365 newish CRJ900. ...      NaN            NaN   \n",
       "3  Adria serves this 100 min flight from Ljubljan...      NaN            NaN   \n",
       "4  WAW-SKJ Economy. No free snacks or drinks on t...      NaN            NaN   \n",
       "\n",
       "      cabin_flown route  overall_rating  seat_comfort_rating  \\\n",
       "0         Economy   NaN             7.0                  4.0   \n",
       "1  Business Class   NaN            10.0                  4.0   \n",
       "2         Economy   NaN             9.0                  5.0   \n",
       "3  Business Class   NaN             8.0                  4.0   \n",
       "4         Economy   NaN             4.0                  4.0   \n",
       "\n",
       "   cabin_staff_rating  food_beverages_rating  inflight_entertainment_rating  \\\n",
       "0                 4.0                    4.0                            0.0   \n",
       "1                 5.0                    4.0                            1.0   \n",
       "2                 5.0                    4.0                            0.0   \n",
       "3                 4.0                    3.0                            1.0   \n",
       "4                 2.0                    1.0                            2.0   \n",
       "\n",
       "   ground_service_rating  wifi_connectivity_rating  value_money_rating  \\\n",
       "0                    NaN                       NaN                 4.0   \n",
       "1                    NaN                       NaN                 5.0   \n",
       "2                    NaN                       NaN                 5.0   \n",
       "3                    NaN                       NaN                 4.0   \n",
       "4                    NaN                       NaN                 2.0   \n",
       "\n",
       "   recommended  \n",
       "0            1  \n",
       "1            1  \n",
       "2            1  \n",
       "3            1  \n",
       "4            0  "
      ]
     },
     "execution_count": 9,
     "metadata": {},
     "output_type": "execute_result"
    }
   ],
   "source": [
    "df_airline.head()"
   ]
  },
  {
   "cell_type": "markdown",
   "metadata": {},
   "source": [
    "## Section 2\n",
    "- Sort: by `overall_rating` column field. print `head()` after sorting\n",
    "- Filter: exclude NaN from `type_traveller`. print `head()` after filtering."
   ]
  },
  {
   "cell_type": "code",
   "execution_count": null,
   "metadata": {
    "tags": [
     "Sort"
    ]
   },
   "outputs": [],
   "source": []
  },
  {
   "cell_type": "code",
   "execution_count": null,
   "metadata": {
    "tags": [
     "Filter"
    ]
   },
   "outputs": [],
   "source": []
  },
  {
   "cell_type": "markdown",
   "metadata": {},
   "source": [
    "## Section 3\n",
    "Create a new `.csv` file that contains `author_country` and `continent` columns. concat `airline` dataset with the new file dataset."
   ]
  },
  {
   "cell_type": "code",
   "execution_count": null,
   "metadata": {
    "tags": [
     "concat"
    ]
   },
   "outputs": [],
   "source": []
  },
  {
   "cell_type": "markdown",
   "metadata": {},
   "source": [
    "## Section 4\n",
    "- Use `Describe()` to get statistics about the data\n",
    "- Use `agg()` to get the average of all `rating` columns        "
   ]
  },
  {
   "cell_type": "code",
   "execution_count": null,
   "metadata": {
    "tags": [
     "describe"
    ]
   },
   "outputs": [],
   "source": []
  },
  {
   "cell_type": "code",
   "execution_count": null,
   "metadata": {
    "tags": [
     "agg"
    ]
   },
   "outputs": [],
   "source": []
  }
 ],
 "metadata": {
  "kernelspec": {
   "display_name": ".venv",
   "language": "python",
   "name": "python3"
  },
  "language_info": {
   "codemirror_mode": {
    "name": "ipython",
    "version": 3
   },
   "file_extension": ".py",
   "mimetype": "text/x-python",
   "name": "python",
   "nbconvert_exporter": "python",
   "pygments_lexer": "ipython3",
   "version": "3.11.6"
  }
 },
 "nbformat": 4,
 "nbformat_minor": 2
}
