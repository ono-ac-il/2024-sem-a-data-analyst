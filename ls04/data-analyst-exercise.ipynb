{
 "cells": [
  {
   "cell_type": "markdown",
   "metadata": {
    "tags": []
   },
   "source": [
    "# Data analyst exercise\n",
    "\n",
    "Data taken from: https://github.com/quankiquanki/skytrax-reviews-dataset/tree/master/data\n",
    "\n",
    "The datasets:\n",
    "- https://raw.githubusercontent.com/quankiquanki/skytrax-reviews-dataset/master/data/airline.csv\n",
    "- https://raw.githubusercontent.com/quankiquanki/skytrax-reviews-dataset/master/data/airport.csv\n",
    "- https://raw.githubusercontent.com/quankiquanki/skytrax-reviews-dataset/master/data/lounge.csv\n",
    "- https://raw.githubusercontent.com/quankiquanki/skytrax-reviews-dataset/master/data/seat.csv"
   ]
  },
  {
   "cell_type": "markdown",
   "metadata": {},
   "source": [
    "## Goals\n",
    "\n",
    "**[Section 1](#Section-1)**\n",
    "\n",
    "1. Data loading\n",
    "2. Explore data (`shape`, `dtypes`, `head()`)\n",
    "\n",
    "**[Section 2](#section-2)**\n",
    "\n",
    "Working with the *airline* data\n",
    "\n",
    "1. Sort: by `overall_rating` column field. print `head()` after sorting.\n",
    "2. Filter: exclude NaN from `type_traveller`. print `head()` after filtering.\n",
    "\n",
    "**[Section 3](#section-3)**\n",
    "\n",
    "1. Create a new `.csv` file that contains `author_country` and `continent` columns. concat `airline` dataset with the new file dataset.\n",
    "\n",
    "**[Section 4](#section-4)**\n",
    "\n",
    "1. Use `Describe()` to get statistics about the data\n",
    "2. Use `agg()` to get the average of \n",
    "    - `overall_rating`\n",
    "    - `seat_comfort_rating`\n",
    "    - `cabin_staff_rating`\n",
    "    - `food_beverages_rating`\n",
    "    - `inflight_entertainment_rating`\n",
    "    - `ground_service_rating`\n",
    "    - `wifi_connectivity_rating`\n",
    "    - `value_money_rating`           "
   ]
  },
  {
   "cell_type": "markdown",
   "metadata": {},
   "source": [
    "## Section 1\n",
    "- Data loading\n",
    "- Explore data (`shape`, `dtypes`, `head()`)"
   ]
  },
  {
   "cell_type": "code",
   "execution_count": null,
   "metadata": {
    "tags": [
     "load-data"
    ]
   },
   "outputs": [],
   "source": [
    "import pandas as pd\n",
    "\n",
    "df_airline = pd.read_csv(\"https://raw.githubusercontent.com/quankiquanki/skytrax-reviews-dataset/master/data/airline.csv\")\n",
    "df_airport = pd.read_csv(\"https://raw.githubusercontent.com/quankiquanki/skytrax-reviews-dataset/master/data/airport.csv\")\n",
    "df_lounge = pd.read_csv(\"https://raw.githubusercontent.com/quankiquanki/skytrax-reviews-dataset/master/data/lounge.csv\")\n",
    "df_seat = pd.read_csv(\"https://raw.githubusercontent.com/quankiquanki/skytrax-reviews-dataset/master/data/seat.csv\")\n"
   ]
  },
  {
   "cell_type": "code",
   "execution_count": null,
   "metadata": {
    "tags": [
     "explore-data"
    ]
   },
   "outputs": [],
   "source": [
    "print(\"df_airline\", df_airline.shape)\n",
    "print(\"df_airport\", df_airport.shape)\n",
    "print(\"df_lounge\", df_lounge.shape)\n",
    "print(\"df_seat\", df_seat.shape)"
   ]
  },
  {
   "cell_type": "code",
   "execution_count": null,
   "metadata": {
    "tags": [
     "explore-data"
    ]
   },
   "outputs": [],
   "source": [
    "print(\"df_airline\", df_airline.dtypes)"
   ]
  },
  {
   "cell_type": "code",
   "execution_count": null,
   "metadata": {
    "tags": [
     "explore-data"
    ]
   },
   "outputs": [],
   "source": [
    "df_airline.head()"
   ]
  },
  {
   "cell_type": "markdown",
   "metadata": {},
   "source": [
    "## Section 2\n",
    "- Sort: by `overall_rating` column field. print `head()` after sorting\n",
    "- Filter: exclude NaN from `type_traveller`. print `head()` after filtering."
   ]
  },
  {
   "cell_type": "code",
   "execution_count": null,
   "metadata": {
    "tags": [
     "Sort"
    ]
   },
   "outputs": [],
   "source": []
  },
  {
   "cell_type": "code",
   "execution_count": null,
   "metadata": {
    "tags": [
     "Filter"
    ]
   },
   "outputs": [],
   "source": []
  },
  {
   "cell_type": "markdown",
   "metadata": {},
   "source": [
    "## Section 3\n",
    "Create a new `.csv` file that contains `author_country` and `continent` columns. concat `airline` dataset with the new file dataset."
   ]
  },
  {
   "cell_type": "code",
   "execution_count": null,
   "metadata": {
    "tags": [
     "concat"
    ]
   },
   "outputs": [],
   "source": []
  },
  {
   "cell_type": "markdown",
   "metadata": {},
   "source": [
    "## Section 4\n",
    "- Use `Describe()` to get statistics about the data\n",
    "- Use `agg()` to get the average of all `rating` columns        "
   ]
  },
  {
   "cell_type": "code",
   "execution_count": null,
   "metadata": {
    "tags": [
     "describe"
    ]
   },
   "outputs": [],
   "source": []
  },
  {
   "cell_type": "code",
   "execution_count": null,
   "metadata": {
    "tags": [
     "agg"
    ]
   },
   "outputs": [],
   "source": []
  }
 ],
 "metadata": {
  "kernelspec": {
   "display_name": ".venv",
   "language": "python",
   "name": "python3"
  },
  "language_info": {
   "codemirror_mode": {
    "name": "ipython",
    "version": 3
   },
   "file_extension": ".py",
   "mimetype": "text/x-python",
   "name": "python",
   "nbconvert_exporter": "python",
   "pygments_lexer": "ipython3",
   "version": "3.11.6"
  }
 },
 "nbformat": 4,
 "nbformat_minor": 2
}
