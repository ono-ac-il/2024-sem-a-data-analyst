{
  "cells": [
    {
      "cell_type": "markdown",
      "metadata": {
        "id": "up9xuXcHggTq"
      },
      "source": [
        "# Analyze to stock prices before and after earning call"
      ]
    },
    {
      "cell_type": "code",
      "execution_count": 1,
      "metadata": {
        "id": "AtgfBr-hZ8ra"
      },
      "outputs": [],
      "source": [
        "import pandas as pd\n",
        "\n",
        "aaplPricesLink = 'https://drive.google.com/file/d/1aCtFLqlO_Vh9hc1Y7b_KxpgFdJQ_P0b6/view?usp=drive_link'\n",
        "aaplDividendLink = 'https://drive.google.com/file/d/1QqcgD-5yZE-2q_helBgeG0O93iUKcDr6/view?usp=sharing'\n",
        "aaplearningLink = 'https://drive.google.com/file/d/13gdkGVqlYGfysu--JqKBO7-ZUU3KsGhW/view?usp=sharing'\n",
        "\n",
        "aaplPricesDataUrl = 'https://drive.google.com/uc?id=' + aaplPricesLink.split('/')[-2]\n",
        "aaplDividendsDataUrl = 'https://drive.google.com/uc?id=' + aaplDividendLink.split('/')[-2]\n",
        "aaplEarningDataUrl = 'https://drive.google.com/uc?id=' + aaplearningLink.split('/')[-2]\n",
        "\n",
        "# AAPL Historical Data.csv\n",
        "aaplPricesData = pd.read_csv(aaplPricesDataUrl)\n",
        "aaplDividendData = pd.read_csv(aaplDividendsDataUrl)\n",
        "aaplEarningData = pd.read_csv(aaplEarningDataUrl)\n"
      ]
    },
    {
      "cell_type": "code",
      "execution_count": 25,
      "metadata": {
        "colab": {
          "base_uri": "https://localhost:8080/"
        },
        "id": "rgMzNpESadEf",
        "outputId": "39c516c4-9de1-4600-ef00-78ebe2a3785e"
      },
      "outputs": [
        {
          "name": "stdout",
          "output_type": "stream",
          "text": [
            "         Date   Price    Open    High     Low     Vol. Change %\n",
            "0  12/18/2023  195.89  196.40  196.59  194.41   43.71M   -0.85%\n",
            "1  12/15/2023  197.57  197.53  198.40  197.00  128.54M   -0.27%\n",
            "2  12/14/2023  198.11  198.02  199.62  196.16   65.96M    0.08%\n",
            "3  12/13/2023  197.96  195.09  198.00  194.85   67.76M    1.67%\n",
            "4  12/12/2023  194.71  193.08  194.72  191.72   51.29M    0.79%\n"
          ]
        }
      ],
      "source": [
        "print(aaplPricesData.head())"
      ]
    },
    {
      "cell_type": "code",
      "execution_count": 26,
      "metadata": {
        "colab": {
          "base_uri": "https://localhost:8080/"
        },
        "id": "xdVeUteqfvDL",
        "outputId": "320dec43-f157-48fe-e881-5496194e49d9"
      },
      "outputs": [
        {
          "name": "stdout",
          "output_type": "stream",
          "text": [
            "  Ex-Dividend Date  Dividend  Type  Payment Date  Yield\n",
            "0     Nov 10, 2023      0.24   NaN  Nov 16, 2023  0.53%\n",
            "1     Aug 11, 2023      0.24   NaN  Aug 17, 2023  0.54%\n",
            "2     May 12, 2023      0.24   NaN  May 18, 2023  0.55%\n",
            "3     Feb 10, 2023      0.23   NaN  Feb 16, 2023  0.61%\n",
            "4     Nov 04, 2022      0.23   NaN  Nov 10, 2022  0.66%\n"
          ]
        }
      ],
      "source": [
        "print(aaplDividendData.head())"
      ]
    },
    {
      "cell_type": "code",
      "execution_count": 2,
      "metadata": {
        "colab": {
          "base_uri": "https://localhost:8080/"
        },
        "id": "eNQ4pe5phWW2",
        "outputId": "72d94668-ca46-4b27-b52f-91c3b1a76574"
      },
      "outputs": [
        {
          "name": "stdout",
          "output_type": "stream",
          "text": [
            "   Release Date Period End   EPS /  Forecast Revenue /  Forecast.1\n",
            "0  Jan 25, 2024     Dec-23    --      /  2.1      --     /  118.1B\n",
            "1  Nov 02, 2023     Sep-23  1.46     /  1.39   89.5B     /  89.31B\n",
            "2  Aug 03, 2023     Jun-23  1.26     /  1.19   81.8B     /  81.73B\n",
            "3  May 04, 2023     Mar-23  1.52     /  1.43   94.8B      /  92.9B\n",
            "4  Feb 02, 2023     Dec-22  1.88     /  1.94  117.2B    /  121.88B\n"
          ]
        }
      ],
      "source": [
        "print(aaplEarningData.head())"
      ]
    },
    {
      "cell_type": "markdown",
      "metadata": {
        "id": "NZqcu31ah-4Z"
      },
      "source": [
        "## Check if the close price a day after earning call positive/negeative (EPS)"
      ]
    },
    {
      "cell_type": "code",
      "execution_count": 3,
      "metadata": {
        "colab": {
          "base_uri": "https://localhost:8080/"
        },
        "id": "tRs6zK0djbzT",
        "outputId": "63fca7d2-88df-455d-a7db-18057a785876"
      },
      "outputs": [],
      "source": [
        "# aaplEarningData[\"Date\"] = aaplEarningData[\"Release Date\"]\n",
        "\n",
        "aaplEarningDataWithPrices = aaplEarningData.assign(Date=lambda x: x[\"Release Date\"])\n"
      ]
    },
    {
      "cell_type": "code",
      "execution_count": 4,
      "metadata": {
        "colab": {
          "base_uri": "https://localhost:8080/"
        },
        "id": "H3_6ufyblJRp",
        "outputId": "ca30bde3-a349-4fe8-f94c-99d9fcd57b89"
      },
      "outputs": [
        {
          "name": "stdout",
          "output_type": "stream",
          "text": [
            "   Release Date Period End   EPS /  Forecast Revenue /  Forecast.1  \\\n",
            "0  Jan 25, 2024     Dec-23    --      /  2.1      --     /  118.1B   \n",
            "1  Nov 02, 2023     Sep-23  1.46     /  1.39   89.5B     /  89.31B   \n",
            "2  Aug 03, 2023     Jun-23  1.26     /  1.19   81.8B     /  81.73B   \n",
            "3  May 04, 2023     Mar-23  1.52     /  1.43   94.8B      /  92.9B   \n",
            "4  Feb 02, 2023     Dec-22  1.88     /  1.94  117.2B    /  121.88B   \n",
            "\n",
            "           Date  \n",
            "0  Jan 25, 2024  \n",
            "1  Nov 02, 2023  \n",
            "2  Aug 03, 2023  \n",
            "3  May 04, 2023  \n",
            "4  Feb 02, 2023  \n"
          ]
        }
      ],
      "source": [
        "print(aaplEarningDataWithPrices.head())"
      ]
    }
  ],
  "metadata": {
    "colab": {
      "provenance": [],
      "toc_visible": true
    },
    "kernelspec": {
      "display_name": "Python 3",
      "name": "python3"
    },
    "language_info": {
      "codemirror_mode": {
        "name": "ipython",
        "version": 3
      },
      "file_extension": ".py",
      "mimetype": "text/x-python",
      "name": "python",
      "nbconvert_exporter": "python",
      "pygments_lexer": "ipython3",
      "version": "3.11.6"
    }
  },
  "nbformat": 4,
  "nbformat_minor": 0
}
